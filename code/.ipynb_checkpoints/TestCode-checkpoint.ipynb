{
 "cells": [
  {
   "cell_type": "markdown",
   "metadata": {},
   "source": [
    "## Requests"
   ]
  },
  {
   "cell_type": "code",
   "execution_count": 22,
   "metadata": {
    "collapsed": true
   },
   "outputs": [],
   "source": [
    "import requests, json, csv, time, urllib3\n",
    "from urllib.parse import urlencode, quote_plus, unquote\n",
    "from pymongo import MongoClient\n",
    "import os\n",
    "import pandas as pd\n",
    "import pickle\n",
    "import json\n",
    "\n",
    "\n",
    "\"\"\"\n",
    "Date : 2018-08-22\n",
    "\n",
    "Author : Hwang Taelim\n",
    "Content :\n",
    "- Class for data connect with GET request // DataConnect\n",
    "\n",
    "\"\"\"\n",
    "class DataConnect():\n",
    "    def __init__(self, url, headers, params=None):\n",
    "        self.url = url\n",
    "        self.params = params\n",
    "        self.headers = headers\n",
    "        self.data = \"\"\n",
    "\n",
    "    def getData(self, num_retries=5):\n",
    "        with requests.Session() as s:\n",
    "            s.keep_alive = False\n",
    "            try:\n",
    "                res = s.get(url=self.url, params = self.params, headers=self.headers, timeout=10)\n",
    "    #         res = requests.get(url=self.url, params = self.params, headers=self.headers, timeout=1)\n",
    "                if 500 <= res.status_code<600:\n",
    "                    print(html.status_code, res, reason)\n",
    "                    raise ConnectionError\n",
    "\n",
    "            except:\n",
    "                s.close()\n",
    "                print(\"--TRY CONNECTION {0}...--\".format(num_retries))\n",
    "                if num_retries > 0:\n",
    "#                     time.sleep(60)\n",
    "                    return self.getData(num_retries = (num_retries-1))\n",
    "                else:\n",
    "                    s.close()\n",
    "                    print(\"--MAX RETRY REACHED!--\")\n",
    "                    return None\n",
    "            else:\n",
    "                resStr = res.content\n",
    "                resStr = resStr.decode('utf-8')\n",
    "                resObj = json.loads(resStr)\n",
    "        #         print(json.dumps(resObj, indent=\"  \",  ensure_ascii=False))\n",
    "                self.data = resObj\n",
    "                s.close()\n",
    "                return resObj\n",
    "\n",
    "\n",
    "    def setUrl(self, url):\n",
    "        self.url = url\n",
    "\n",
    "    def setParams(self, params):\n",
    "        self.params = params\n",
    "\n",
    "    def setHeaders(self, headers):\n",
    "        self.headers = headers\n",
    "\n",
    "class APIConnect():\n",
    "    def __init__(self, api_list):\n",
    "        self.api_list = api_list\n",
    "        self.reconnect_url = []\n",
    "\n",
    "    def seoul_api(self, db_conn):\n",
    "\n",
    "        for api in self.api_list:\n",
    "            if \"_w_\" in api:\n",
    "                db_conn.set_db(\"OpenAPIWithPos\")\n",
    "            else:\n",
    "                db_conn.set_db(\"OpenAPIWithoutPos\")\n",
    "            db_conn.set_item(\"seoul\")\n",
    "            with open(api, 'r', newline='') as f:\n",
    "                f_csv = csv.reader(f, delimiter='\\t')\n",
    "                url_list = []\n",
    "\n",
    "                for row in (row for row in f_csv if row[0] == 'seoul'):\n",
    "                    url_list.append(row)\n",
    "\n",
    "                for url_data in url_list:\n",
    "                    if 'http' in url_data[3]:\n",
    "                        # Initial data getter\n",
    "                        url_origin = url_data[3]+\"/\"+url_data[5]+\"/json/\"+url_data[4]\n",
    "                        url_init = url_origin+\"/1/1\"\n",
    "#                         print(url_init)\n",
    "                        headers={'user-agent': 'Mozilla/5.0 (Windows NT 10.0; Win64; x64) AppleWebKit/537.36 (KHTML, like Gecko) Chrome/68.0.3440.84 Safari/537.36',\n",
    "                                \"Connection\": \"close\",\n",
    "                                }\n",
    "                        data_connect = DataConnect(url=url_init, headers=headers)\n",
    "                        res_data = data_connect.getData()\n",
    "\n",
    "\n",
    "                        try:\n",
    "                            res_data[url_data[4]]\n",
    "                        except Exception as e:\n",
    "                            print(e)\n",
    "                            print(res_data[\"RESULT\"][\"CODE\"], \":\", res_data[\"RESULT\"][\"MESSAGE\"])\n",
    "                        else:\n",
    "                            # Seoul API의 category data를 입력한다\n",
    "                            db_conn.update_category(res_data, \"seoul\")\n",
    "                            divisor = 250\n",
    "                            data_count = res_data[url_data[4]][\"list_total_count\"]\n",
    "                            loop_count = data_count // divisor\n",
    "                            loop_remain = data_count % divisor\n",
    "                            print(\"--LOAD {0} ITEMS, SEPERATED BY 1000 ({1}, {2})--\".format(data_count, loop_count, loop_remain))\n",
    "                            for i in range(loop_count):\n",
    "                                url_req = url_origin+\"/\"+str(i*divisor+1)+\"/\"+str((i+1)*divisor)\n",
    "                                print(url_req)\n",
    "                                data_connect.setUrl(url_req)\n",
    "                                res_data = data_connect.getData()\n",
    "                                # 이후 DB에 넣음\n",
    "                                db_conn.update_seoul(res_data, i*divisor)\n",
    "                            if loop_remain > 0:\n",
    "                                url_req = url_origin+\"/\"+str(loop_count*divisor+1)+\"/\"+str((loop_count*divisor)+loop_remain)\n",
    "                                print(url_req)\n",
    "                                data_connect.setUrl(url_req)\n",
    "                                res_data = data_connect.getData()\n",
    "                                # 이후 DB에 넣음\n",
    "                                db_conn.update_seoul(res_data, loop_count*divisor)\n",
    "                            # print(data_count)\n",
    "\n",
    "\n",
    "    def data_go_api(self, db_conn, api_name, params):\n",
    "\n",
    "        for api in self.api_list:\n",
    "            if \"_w_\" in api:\n",
    "                db_conn.set_db(\"OpenAPIWithPos\")\n",
    "            else:\n",
    "                db_conn.set_db(\"OpenAPIWithoutPos\")\n",
    "            db_conn.set_item(\"data_go\")\n",
    "            with open(api, 'r', newline='') as f:\n",
    "                f_csv = csv.reader(f, delimiter='\\t')\n",
    "                url_list = []\n",
    "\n",
    "                for row in (row for row in f_csv if row[0] == 'data_go'):\n",
    "                    url_list.append(row)\n",
    "\n",
    "                for url_data in url_list:\n",
    "                    if 'http' in url_data[3] and api_name == url_data[4]:\n",
    "                        # Initial data getter\n",
    "                        url_origin = url_data[3]+\"/\"+api_name\n",
    "                        url_init = url_origin\n",
    "                        print(url_init)\n",
    "#                         print(url_init)\n",
    "                        headers={\n",
    "                            'user-agent': 'Mozilla/5.0 (Windows NT 10.0; Win64; x64) AppleWebKit/537.36 (KHTML, like Gecko) Chrome/68.0.3440.84 Safari/537.36',\n",
    "                            'Connection':'close',\n",
    "                                }\n",
    "\n",
    "                        try:\n",
    "                            data_connect = DataConnect(url=url_init, params = params, headers=headers)\n",
    "                            res_data = data_connect.getData()\n",
    "                            res_data[\"body\"][\"items\"]\n",
    "                        except:\n",
    "                            print(res_data[\"header\"][\"resultCode\"], \":\", res_data[\"header\"][\"resultMsg\"])\n",
    "                        else:\n",
    "                            # 이후 DB에 넣음\n",
    "                            db_conn.update_data_go(res_data, api_name)\n",
    "                            # print(data_count)\n",
    "\n",
    "\n",
    "class DBConnect():\n",
    "    def __init__(self, host=\"127.0.0.1\", port=27017, db=\"admin\"):\n",
    "        print(\"--INIT MONGO DB CONNECTION--\")\n",
    "        self.client = MongoClient(host = host, port = port)\n",
    "        self.db = self.client.get_database(db)\n",
    "        self.item = self.db['item']\n",
    "        print(\"--CLIENT : {0}--\".format(self.client))\n",
    "        print(\"--DB : {0}--\".format(self.db))\n",
    "        print(\"--ITEM : {0}--\".format(self.item))\n",
    "\n",
    "\n",
    "    def set_item(self, item=\"item\"):\n",
    "        self.item = self.db[item]\n",
    "\n",
    "    def set_db(self, db):\n",
    "        self.db = self.client.get_database(db)\n",
    "\n",
    "    def get_item_by_cat(self, search_key):\n",
    "        self.set_db(\"map_db\")\n",
    "        self.set_item(\"place\")\n",
    "        result = self.item.find({\n",
    "            'cat_name': search_key\n",
    "        },\n",
    "            {\n",
    "                '_id': False\n",
    "            })\n",
    "        return list(result)\n",
    "\n",
    "    def get_item_by_title(self, search_key):\n",
    "        self.set_db(\"map_db\")\n",
    "        self.set_item(\"place\")\n",
    "        result = self.item.find({\n",
    "            'items.title': search_key\n",
    "        },\n",
    "            {\n",
    "                '_id': False\n",
    "            })\n",
    "        return list(result)\n",
    "    \n",
    "    def get_item_key(self):\n",
    "        self.set_db(\"map_db\")\n",
    "        self.set_item(\"place\")\n",
    "        result = self.item.find({\n",
    "        },\n",
    "            {\n",
    "#                 'cat_id':True,\n",
    "                'items':False,\n",
    "                'cat_name':False,\n",
    "                'pop_tags':False,\n",
    "                '_id': False\n",
    "            })\n",
    "        return list(result)\n",
    "\n",
    "    def get_item_by_latlon(self, search_key):\n",
    "        self.set_db(\"map_db\")\n",
    "        self.set_item(\"place\")\n",
    "        result = self.item.find({\n",
    "            \"$or\": [{'items.lat': search_key[0]}, {'items.lon': search_key[1]}]\n",
    "\n",
    "        },\n",
    "            {\n",
    "                '_id': False\n",
    "            })\n",
    "        return list(result)\n",
    "\n",
    "    def update_seoul(self, items, index):\n",
    "        print(\"--UPDATE START--\")\n",
    "#         print(self.item)\n",
    "#         print(self.db)\n",
    "#         print(self.client)\n",
    "#         print(items[list(items.keys())[0]][\"row\"])\n",
    "        if items == None:\n",
    "            print(\"--NO ITEMS!--\")\n",
    "            return\n",
    "        for row in items[list(items.keys())[0]][\"row\"]:\n",
    "            try:\n",
    "#                 print(index, row)\n",
    "                result = self.item.update_one(\n",
    "                    {\n",
    "                        \"api_id\": list(items.keys())[0]+\"_\"+str(index)\n",
    "                    },\n",
    "                    {\n",
    "                        '$set': row\n",
    "                    },\n",
    "                    upsert=True,\n",
    "                )\n",
    "#                 print(result.raw_result)\n",
    "\n",
    "                index += 1\n",
    "            except Exception as e:\n",
    "                print(e)\n",
    "\n",
    "        print(\"--DATA UPDATE IS COMPLETED--\")\n",
    "\n",
    "    def update_data_go(self, items, name):\n",
    "        print(\"--UPDATE START--\")\n",
    "        index = 0\n",
    "        items = items[\"body\"]\n",
    "        if len(items.keys()) == 0:\n",
    "            print(\"--NO ITEMS!--\")\n",
    "            return\n",
    "        for row in items[\"items\"]:\n",
    "            try:\n",
    "#                 print(index, row)\n",
    "                result = self.item.update_one(\n",
    "                    {\n",
    "                        \"api_id\": list(name+\"_\"+str(index))\n",
    "                    },\n",
    "                    {\n",
    "                        '$set': row\n",
    "                    },\n",
    "                    upsert=True,\n",
    "                )\n",
    "#                 print(result.raw_result)\n",
    "\n",
    "                index += 1\n",
    "            except Exception as e:\n",
    "                print(e)\n",
    "\n",
    "        print(\"--DATA UPDATE IS COMPLETED--\")\n",
    "\n",
    "    def update_csv(self, name, csv_id = \"\"):\n",
    "        self.set_db(\"OpenAPIWithPos\")\n",
    "        self.set_item(\"csv_\"+name)\n",
    "        print(\"--UPDATE START--\")\n",
    "        url = \"csv/\"+name\n",
    "        file_list = []\n",
    "        for(dirpath, dirnames, filenames) in os.walk(url):\n",
    "            file_list.extend(filenames)\n",
    "            break\n",
    "        print(file_list)\n",
    "        if len(file_list) == 0:\n",
    "            print(\"--NO ITEMS!--\")\n",
    "            return\n",
    "\n",
    "        # 일단 다 지우기...\n",
    "        result = self.item.delete_many({})\n",
    "        for file in file_list:\n",
    "            df = pd.read_csv(url+\"/\"+file, engine='python')\n",
    "            data = df[df[\"시도명\"] == \"서울특별시\"]\n",
    "            data_json = json.loads(data.to_json(orient='records'))\n",
    "#             print(data_json)\n",
    "            try:\n",
    "#                 print(index, row)\n",
    "                result = self.item.insert_many(\n",
    "                    data_json,\n",
    "                )\n",
    "#                 print(result.raw_result)\n",
    "\n",
    "            except Exception as e:\n",
    "                print(e)\n",
    "\n",
    "        print(\"--DATA UPDATE IS COMPLETED--\")\n",
    "\n",
    "    def update_crawl(self, name = \"/\", crawl_id = \"\"):\n",
    "        self.set_db(\"OpenAPIWithPos\")\n",
    "\n",
    "        print(\"--UPDATE START--\")\n",
    "        url = \"crawl\"+name\n",
    "        file_list = []\n",
    "        for(dirpath, dirnames, filenames) in os.walk(url):\n",
    "            file_list.extend(filenames)\n",
    "            break\n",
    "\n",
    "        print(file_list)\n",
    "        if len(file_list) == 0:\n",
    "            print(\"--NO ITEMS!--\")\n",
    "            return\n",
    "\n",
    "        # 일단 다 지우기...\n",
    "\n",
    "        for file in file_list:\n",
    "            self.set_item(\"crawl_\"+file.split(\".\")[0])\n",
    "            result = self.item.delete_many({})\n",
    "            with open(url+\"/\"+file, 'rb') as f:\n",
    "                data = pickle.load(f)\n",
    "            for i in range(len(data)):\n",
    "                data[i][\"api_id\"] = \"diningCode_\"+str(i)\n",
    "\n",
    "#                 print(data[i])\n",
    "            data_json = data\n",
    "\n",
    "#             print(data_json)\n",
    "            try:\n",
    "#                 print(index, row)\n",
    "                result = self.item.insert_many(\n",
    "\n",
    "                    data_json,\n",
    "                )\n",
    "#                 print(result.raw_result)\n",
    "\n",
    "            except Exception as e:\n",
    "                print(e)\n",
    "\n",
    "        print(\"--DATA UPDATE IS COMPLETED--\")\n",
    "\n",
    "\n",
    "    def update_map_db(self):\n",
    "        print(\"--SET DB POINTER TO OPENAPIWITHPOS--\")\n",
    "#         self.db = self.client.get_database(\"OpenAPIWithPos\")\n",
    "        self.set_db(\"OpenAPIWithPos\")\n",
    "        print(\"--SELECT ITEMS--\")\n",
    "\n",
    "        items = []\n",
    "        # seoul data\n",
    "        self.set_item(\"seoul\")\n",
    "        items.extend(list(self.item.find({})))\n",
    "\n",
    "        # csv data(우선은 직접 명시)\n",
    "        self.set_item(\"csv_small_shop\")\n",
    "        items.extend(list(self.item.find({})))\n",
    "\n",
    "        # crawl data\n",
    "        self.set_item(\"crawl_dining_code\")\n",
    "        items.extend(list(self.item.find({})))\n",
    "\n",
    "\n",
    "\n",
    "        print(\"--SET DISCRIMINATOR--\")\n",
    "        disc_api_id = ['api_id', '상가업소번호']\n",
    "        disc_title = ['title', 'TITLE', 'GIGU', 'GOSU_CD','COURSE_NAME', 'NM', 'LBRRY_NAME', 'NAME_KOR', 'COT_CONTS_NAME', '상호명']\n",
    "        disc_x = ['lat','X', 'XCODE', 'XCNTS', 'WGS84_X', 'COT_COORD_X', '위도']\n",
    "        disc_y = ['lon','Y', 'YCODE', 'YDNTS', 'WGS84_Y', 'COT_COORD_Y', '경도']\n",
    "        disc_text = ['text','CONTENT','REMARK', 'CULTURE_BUSINESS_TYPE', 'CODENAME', '표준산업분류명']\n",
    "        disc_tag = []\n",
    "        disc_cat = ['상권업종중분류명']\n",
    "        disc_addr = ['addr','ADDR', 'ADDR_OLD', 'ADRES', 'ADD_KOR', 'COT_ADDR_FULL_NEW', 'COT_ADDR_FULL_OLD', '도로명주소']\n",
    "        disc_call = ['call','TEL_NO', 'TEL']\n",
    "        disc_image = ['img']\n",
    "        print(\"--SET DB POINTER TO MAP_DB--\")\n",
    "        self.set_db(\"map_db\")\n",
    "\n",
    "        print(\"--SELECT ITEMS--\")\n",
    "        self.set_item(\"place\")\n",
    "\n",
    "        print(\"--UPDATE START--\")\n",
    "\n",
    "        for row in items:\n",
    "            set_api_id = \"\"\n",
    "            set_title = \"\"\n",
    "            set_text=\"\"\n",
    "            set_tag=\"\"\n",
    "            set_cat=\"\"\n",
    "            set_addr=\"\"\n",
    "            set_call=\"\"\n",
    "            set_x = \"\"\n",
    "            set_y = \"\"\n",
    "            set_image = \"\"\n",
    "\n",
    "\n",
    "            for api_id in disc_api_id:\n",
    "                if api_id in row.keys():\n",
    "                    if api_id == \"상가업소번호\":\n",
    "                        set_api_id = \"smallShop_\"+row[api_id]\n",
    "                    else:\n",
    "                        set_api_id = row[api_id]\n",
    "            for title in disc_title:\n",
    "                if title in row.keys():\n",
    "                    set_title = row[title]\n",
    "            for x in disc_x:\n",
    "                if x in row.keys():\n",
    "                    set_x = row[x]\n",
    "            for y in disc_y:\n",
    "                if y in row.keys():\n",
    "                    set_y = row[y]\n",
    "\n",
    "            for text in disc_text:\n",
    "                if text in row.keys():\n",
    "                    set_text = row[text]\n",
    "            for tag in disc_tag:\n",
    "                if tag in row.keys():\n",
    "                    set_tag = row[tag]\n",
    "            for cat in disc_cat:\n",
    "                if cat in row.keys():\n",
    "                    set_cat = row[cat]\n",
    "            for addr in disc_addr:\n",
    "                if addr in row.keys():\n",
    "                    set_addr = row[addr]\n",
    "            for call in disc_call:\n",
    "                if call in row.keys():\n",
    "                    set_call = row[call]\n",
    "            for image in disc_image:\n",
    "                if image in row.keys():\n",
    "                    set_image = row[image]\n",
    "            insert_data = {\n",
    "                            'cat_name':set_cat,\n",
    "                            'pop_tags':set_tag,\n",
    "                            'items':{\n",
    "                                'title': set_title,\n",
    "                                'text':set_text,\n",
    "                                'star_cnt':\"\",\n",
    "                                'rev_cnt':\"\",\n",
    "                                'addr':set_addr,\n",
    "                                'call':set_call,\n",
    "                                'lon': set_x,\n",
    "                                'lat': set_y,\n",
    "                                'image' : set_image\n",
    "                            }\n",
    "                }\n",
    "#             print(insert_data)\n",
    "            try:\n",
    "#                 print(index, row)\n",
    "\n",
    "\n",
    "                result = self.item.update_one(\n",
    "                    {\n",
    "                        \"cat_id\": set_api_id\n",
    "                    },\n",
    "                    {\n",
    "                        '$set': insert_data\n",
    "\n",
    "                    },\n",
    "                    upsert=True,\n",
    "                )\n",
    "#                 print(result.raw_result)\n",
    "\n",
    "            except Exception as e:\n",
    "#                 print(e)\n",
    "                print(\"--ERROR!--\")\n",
    "            else:\n",
    "                pass\n",
    "#                 print(\"--ONE ITEM UPDATED--\")\n",
    "\n",
    "        print(\"--DATA UPDATE IS COMPLETED--\")\n",
    "\n",
    "    def update_category(self, items, name):\n",
    "        print(\"--UPDATE START--\")\n",
    "        db = self.client.get_database(\"OpenAPICategory\")\n",
    "        db_item = db[name]\n",
    "\n",
    "#         items = items[\"body\"]\n",
    "#         if len(items.keys()) == 0:\n",
    "#             print(\"--NO ITEMS!--\")\n",
    "#             return\n",
    "\n",
    "        if items == None:\n",
    "            print(\"--NO ITEMS!--\")\n",
    "            return\n",
    "        for row in items[list(items.keys())[0]][\"row\"]:\n",
    "            try:\n",
    "#                 print(index, row)\n",
    "                result = db_item.update_one(\n",
    "                    {\n",
    "                        \"api_id\": list(items.keys())[0]\n",
    "                    },\n",
    "                    {\n",
    "                        '$set': row\n",
    "\n",
    "                    },\n",
    "                    upsert=True,\n",
    "                )\n",
    "#                 print(result.raw_result)\n",
    "\n",
    "            except Exception as e:\n",
    "                print(e)\n"
   ]
  },
  {
   "cell_type": "code",
   "execution_count": 10,
   "metadata": {},
   "outputs": [
    {
     "name": "stdout",
     "output_type": "stream",
     "text": [
      "--INIT MONGO DB CONNECTION--\n",
      "--CLIENT : MongoClient(host=['127.0.0.1:27017'], document_class=dict, tz_aware=False, connect=True)--\n",
      "--DB : Database(MongoClient(host=['127.0.0.1:27017'], document_class=dict, tz_aware=False, connect=True), 'admin')--\n",
      "--ITEM : Collection(Database(MongoClient(host=['127.0.0.1:27017'], document_class=dict, tz_aware=False, connect=True), 'admin'), 'item')--\n",
      "--SET DB POINTER TO OPENAPIWITHPOS--\n",
      "--SELECT ITEMS--\n",
      "--SET DISCRIMINATOR--\n",
      "--SET DB POINTER TO MAP_DB--\n",
      "--SELECT ITEMS--\n",
      "--UPDATE START--\n",
      "--DATA UPDATE IS COMPLETED--\n"
     ]
    }
   ],
   "source": [
    "if __name__==\"__main__\":\n",
    "    api_connect = APIConnect([\"url_list_w_lat.txt\", \"url_list_wo_lat.txt\"])\n",
    "    db_conn = DBConnect()\n",
    "#     api_connect.seoul_api(db_conn)\n",
    "    \n",
    "#     params={\n",
    "#         'radius':5000,\n",
    "#         'cx':127.004528,\n",
    "#         'cy':37.567538,\n",
    "#         'type':'json',\n",
    "#         'ServiceKey':unquote('9yufdGwfG5nTrm48106s%2B%2FQK%2Bz6byu8kQyqGYX7ywOTcSZz5hKnJG6OSAFPymm3Ei6TrKcsL3Osas1zm4v6HmA%3D%3D'),\n",
    "#     }\n",
    "#     api_connect.data_go_api(db_conn,\"storeZoneInRadius\",params)\n",
    "    \n",
    "    \n",
    "#     db_conn.update_csv(\"small_shop\")\n",
    "#     db_conn.update_crawl()\n",
    "    db_conn.update_map_db()"
   ]
  },
  {
   "cell_type": "code",
   "execution_count": null,
   "metadata": {},
   "outputs": [
    {
     "name": "stdout",
     "output_type": "stream",
     "text": [
      "--SET DB POINTER TO OPENAPIWITHPOS--\n",
      "--SELECT ITEMS--\n",
      "--SET DISCRIMINATOR--\n",
      "--SET DB POINTER TO MAP_DB--\n",
      "--SELECT ITEMS--\n",
      "--UPDATE START--\n"
     ]
    }
   ],
   "source": [
    "db_conn.update_map_db()"
   ]
  },
  {
   "cell_type": "code",
   "execution_count": 3,
   "metadata": {},
   "outputs": [
    {
     "name": "stdout",
     "output_type": "stream",
     "text": [
      "--INIT MONGO DB CONNECTION--\n",
      "--CLIENT : MongoClient(host=['127.0.0.1:27017'], document_class=dict, tz_aware=False, connect=True)--\n",
      "--DB : Database(MongoClient(host=['127.0.0.1:27017'], document_class=dict, tz_aware=False, connect=True), 'admin')--\n",
      "--ITEM : Collection(Database(MongoClient(host=['127.0.0.1:27017'], document_class=dict, tz_aware=False, connect=True), 'admin'), 'item')--\n"
     ]
    }
   ],
   "source": [
    "db_conn = DBConnect()"
   ]
  },
  {
   "cell_type": "code",
   "execution_count": null,
   "metadata": {
    "collapsed": true
   },
   "outputs": [],
   "source": [
    "items = db_conn.update_map_db()"
   ]
  },
  {
   "cell_type": "code",
   "execution_count": null,
   "metadata": {
    "collapsed": true
   },
   "outputs": [],
   "source": [
    "api_connect = APIConnect([\"url_list_w_lat.txt\", \"url_list_wo_lat.txt\"])"
   ]
  },
  {
   "cell_type": "code",
   "execution_count": 4,
   "metadata": {},
   "outputs": [
    {
     "name": "stdout",
     "output_type": "stream",
     "text": [
      "--INIT MONGO DB CONNECTION--\n",
      "--CLIENT : MongoClient(host=['127.0.0.1:27017'], document_class=dict, tz_aware=False, connect=True)--\n",
      "--DB : Database(MongoClient(host=['127.0.0.1:27017'], document_class=dict, tz_aware=False, connect=True), 'admin')--\n",
      "--ITEM : Collection(Database(MongoClient(host=['127.0.0.1:27017'], document_class=dict, tz_aware=False, connect=True), 'admin'), 'item')--\n"
     ]
    }
   ],
   "source": [
    "db_conn = DBConnect()"
   ]
  },
  {
   "cell_type": "code",
   "execution_count": null,
   "metadata": {
    "collapsed": true
   },
   "outputs": [],
   "source": [
    "api_connect.seoul_api(db_conn)"
   ]
  },
  {
   "cell_type": "code",
   "execution_count": null,
   "metadata": {
    "collapsed": true,
    "scrolled": true
   },
   "outputs": [],
   "source": [
    "params={\n",
    "    'radius':5000,\n",
    "    'cx':127.004528,\n",
    "    'cy':37.567538,\n",
    "    'type':'json',\n",
    "    'ServiceKey':unquote('9yufdGwfG5nTrm48106s%2B%2FQK%2Bz6byu8kQyqGYX7ywOTcSZz5hKnJG6OSAFPymm3Ei6TrKcsL3Osas1zm4v6HmA%3D%3D'),\n",
    "}\n",
    "api_connect.data_go_api(db_conn, params)"
   ]
  },
  {
   "cell_type": "code",
   "execution_count": null,
   "metadata": {
    "collapsed": true
   },
   "outputs": [],
   "source": [
    "dataConnect = DataConnect(url=\"https://www.bikeseoul.com/app/station/getStationRealtimeStatus.do\",\n",
    "                      params={'searchValue' : \"0\"},\n",
    "                       headers={\n",
    "                    \"User-Agent\": \"Mozilla/5.0 (Windows NT 10.0; Win64; x64) AppleWebKit/537.36 (KHTML, like Gecko) Chrome/68.0.3440.84 Safari/537.36\"}\n",
    "                      )"
   ]
  },
  {
   "cell_type": "markdown",
   "metadata": {},
   "source": [
    "## Mongo DB"
   ]
  },
  {
   "cell_type": "code",
   "execution_count": null,
   "metadata": {
    "collapsed": true
   },
   "outputs": [],
   "source": [
    "from pymongo import MongoClient\n",
    "\n",
    "class DBConnect():\n",
    "    def __init__(self, host=\"127.0.0.1\", port=\"27017\", db=\"admin\"):\n",
    "        self.client = MongoClient(host = host, port = port)\n",
    "        self.db = self.client.get_database(db)\n",
    "        self.item = self.db['item']\n",
    "    \n",
    "    def set_db(self, db):\n",
    "        self.db = self.client.get_database(db)\n",
    "\n",
    "    def set_item(self, item):\n",
    "        self.item = self.db[item]\n",
    "        \n",
    "    def update_items(self, items):\n",
    "        try:\n",
    "            result = self.item.update_one(\n",
    "                {\"title\": info_list[1]},\n",
    "                {\n",
    "                    '$set':{'img_url':img_url,'img_base64':img_base64}\n",
    "                },\n",
    "                upsert=True,\n",
    "            )\n",
    "            print(result.raw_result)\n",
    "        except Exception as e:\n",
    "            print(e)\n",
    "            break"
   ]
  },
  {
   "cell_type": "code",
   "execution_count": 5,
   "metadata": {
    "collapsed": true
   },
   "outputs": [],
   "source": [
    "result = db_conn.get_item_by_title(\"고덕산 산책길\")"
   ]
  },
  {
   "cell_type": "code",
   "execution_count": 7,
   "metadata": {},
   "outputs": [
    {
     "name": "stdout",
     "output_type": "stream",
     "text": [
      "[{'_id': ObjectId('5b7c9e6958366c5eb551ee6f'), 'cat_id': 'SeoulGilWalkCourse_0', 'cat_name': '', 'items': {'title': '고덕산 산책길', 'text': ' 해발 100m 미만의 낮고 순탄한 숲길이지만 계절 따라 순환하는 자연의 섭리를 그대로 느낄 수 있다. ', 'star_cnt': '', 'rev_cnt': '', 'addr': '', 'call': '', 'lon': '212796.5744', 'lat': '451823.5078', 'image': ''}, 'pop_tags': ''}, {'_id': ObjectId('5b7c9e6958366c5eb551ee71'), 'cat_id': 'SeoulGilWalkCourse_1', 'cat_name': '', 'items': {'title': '고덕산 산책길', 'text': ' 해발 100m 미만의 낮고 순탄한 숲길이지만 계절 따라 순환하는 자연의 섭리를 그대로 느낄 수 있다. ', 'star_cnt': '', 'rev_cnt': '', 'addr': '', 'call': '', 'lon': '212740.8039', 'lat': '450271.8163', 'image': ''}, 'pop_tags': ''}, {'_id': ObjectId('5b7c9e6958366c5eb551ee73'), 'cat_id': 'SeoulGilWalkCourse_2', 'cat_name': '', 'items': {'title': '고덕산 산책길', 'text': ' 해발 100m 미만의 낮고 순탄한 숲길이지만 계절 따라 순환하는 자연의 섭리를 그대로 느낄 수 있다. ', 'star_cnt': '', 'rev_cnt': '', 'addr': '', 'call': '', 'lon': '213032.5589', 'lat': '451967.7418', 'image': ''}, 'pop_tags': ''}, {'_id': ObjectId('5b7c9e6958366c5eb551ee75'), 'cat_id': 'SeoulGilWalkCourse_3', 'cat_name': '', 'items': {'title': '고덕산 산책길', 'text': ' 해발 100m 미만의 낮고 순탄한 숲길이지만 계절 따라 순환하는 자연의 섭리를 그대로 느낄 수 있다. ', 'star_cnt': '', 'rev_cnt': '', 'addr': '', 'call': '', 'lon': '212687.3899', 'lat': '451513.8442', 'image': ''}, 'pop_tags': ''}]\n"
     ]
    }
   ],
   "source": [
    "print(list(result))"
   ]
  },
  {
   "cell_type": "code",
   "execution_count": 1,
   "metadata": {},
   "outputs": [
    {
     "ename": "NameError",
     "evalue": "name 'db_conn' is not defined",
     "output_type": "error",
     "traceback": [
      "\u001b[1;31m---------------------------------------------------------------------------\u001b[0m",
      "\u001b[1;31mNameError\u001b[0m                                 Traceback (most recent call last)",
      "\u001b[1;32m<ipython-input-1-518fe2a4b3ba>\u001b[0m in \u001b[0;36m<module>\u001b[1;34m()\u001b[0m\n\u001b[1;32m----> 1\u001b[1;33m \u001b[0mresult\u001b[0m \u001b[1;33m=\u001b[0m \u001b[0mdb_conn\u001b[0m\u001b[1;33m.\u001b[0m\u001b[0mget_item_by_cat\u001b[0m\u001b[1;33m(\u001b[0m\u001b[1;34m\"한식\"\u001b[0m\u001b[1;33m)\u001b[0m\u001b[1;33m\u001b[0m\u001b[0m\n\u001b[0m",
      "\u001b[1;31mNameError\u001b[0m: name 'db_conn' is not defined"
     ]
    }
   ],
   "source": [
    "result = db_conn.get_item_by_cat(\"한식\")"
   ]
  },
  {
   "cell_type": "code",
   "execution_count": null,
   "metadata": {
    "collapsed": true
   },
   "outputs": [],
   "source": []
  },
  {
   "cell_type": "code",
   "execution_count": 5,
   "metadata": {},
   "outputs": [
    {
     "data": {
      "text/plain": [
       "4"
      ]
     },
     "execution_count": 5,
     "metadata": {},
     "output_type": "execute_result"
    }
   ],
   "source": [
    "result.count()"
   ]
  },
  {
   "cell_type": "code",
   "execution_count": 2,
   "metadata": {
    "collapsed": true
   },
   "outputs": [],
   "source": [
    "    def get_item_by_cat(self, search_key):\n",
    "        self.set_db(\"map_db\")\n",
    "        self.set_item(\"place\")\n",
    "        result = self.item.find({\n",
    "            'cat_name':search_key\n",
    "        })\n",
    "        return result"
   ]
  },
  {
   "cell_type": "code",
   "execution_count": 19,
   "metadata": {
    "collapsed": true
   },
   "outputs": [],
   "source": [
    "result = db_conn.item.find({\n",
    "    'cat_id':'GolfF\n",
    "})"
   ]
  },
  {
   "cell_type": "code",
   "execution_count": 20,
   "metadata": {},
   "outputs": [
    {
     "data": {
      "text/plain": [
       "1"
      ]
     },
     "execution_count": 20,
     "metadata": {},
     "output_type": "execute_result"
    }
   ],
   "source": [
    "result.count()"
   ]
  },
  {
   "cell_type": "markdown",
   "metadata": {
    "collapsed": true
   },
   "source": [
    "## sqlite"
   ]
  },
  {
   "cell_type": "code",
   "execution_count": 26,
   "metadata": {},
   "outputs": [
    {
     "name": "stdout",
     "output_type": "stream",
     "text": [
      "--INIT MONGO DB CONNECTION--\n",
      "--CLIENT : MongoClient(host=['127.0.0.1:27017'], document_class=dict, tz_aware=False, connect=True)--\n",
      "--DB : Database(MongoClient(host=['127.0.0.1:27017'], document_class=dict, tz_aware=False, connect=True), 'admin')--\n",
      "--ITEM : Collection(Database(MongoClient(host=['127.0.0.1:27017'], document_class=dict, tz_aware=False, connect=True), 'admin'), 'item')--\n",
      "--INIT MONGO DB CONNECTION--\n",
      "--CLIENT : MongoClient(host=['127.0.0.1:27017'], document_class=dict, tz_aware=False, connect=True)--\n",
      "--DB : Database(MongoClient(host=['127.0.0.1:27017'], document_class=dict, tz_aware=False, connect=True), 'admin')--\n",
      "--ITEM : Collection(Database(MongoClient(host=['127.0.0.1:27017'], document_class=dict, tz_aware=False, connect=True), 'admin'), 'item')--\n"
     ]
    }
   ],
   "source": [
    "import sqlite3\n",
    "from random import *\n",
    "from datetime import datetime\n",
    "\n",
    "db_conn = DBConnect()\n",
    "\n",
    "conn = sqlite3.connect(\"testDB.db\")\n",
    "cur = conn.cursor()\n",
    "\n",
    "# user table\n",
    "# conn.execute(\"\"\"\n",
    "# drop table user\n",
    "# \"\"\")\n",
    "\n",
    "conn.execute(\n",
    "\"\"\"\n",
    " create table if not exists \"user\" (\n",
    "    \"user_id\" int primary key not null ,\n",
    "    \"email\" text not null,\n",
    "    \"password\" text not null,\n",
    "    \"age\" int,\n",
    "    \"sex\" text not null,\n",
    "    \"phone_num\" text \n",
    "    )\n",
    "\"\"\"\n",
    ")\n",
    "\n",
    "# rate table\n",
    "conn.execute(\n",
    "\"\"\"\n",
    " create table if not exists \"rate\" (\n",
    "    \"rate_id\" int primary key not null ,\n",
    "    \"user_id\" int references user(user_id),\n",
    "    \"place_id\" text not null,\n",
    "    \"date\" text not null,\n",
    "    \"score\" int not null \n",
    "    )\n",
    "\"\"\"\n",
    ")\n",
    "\n",
    "# key list\n",
    "db_conn = DBConnect()\n",
    "key_list = db_conn.get_item_key()\n",
    "concat_key_list = []\n",
    "for item in key_list:\n",
    "    concat_key_list.append(item['cat_id'])\n",
    "    \n",
    "for i in range(1000):\n",
    "    user_id = i\n",
    "    ran_age = randint(25, 45)\n",
    "    ran_email = \"user_\"+str(i)+\"\"\"@gmail.com\"\"\"\n",
    "    pwd = \"1234\"\n",
    "    ran_sex = sample(('남성', '여성'), 1)[0]\n",
    "    \n",
    "    query = \"\"\"insert into \"user\" (user_id, email, password, age, sex) values('{0}', '{1}', '{2}', '{3}', '{4}')\"\"\"\\\n",
    "    .format(user_id, ran_email, pwd, ran_age, ran_sex)\n",
    "#     print(query)\n",
    "    conn.execute(\n",
    "        query\n",
    "    )\n",
    "\n",
    "rate_id = 0\n",
    "for i in range(1000):\n",
    "    ran_range = randint(5, 20)\n",
    "    for j in range(ran_range):\n",
    "        ran_score = sample((0, 1, 2), 1)[0]\n",
    "        place_id = sample(concat_key_list, 1)[0]\n",
    "        query = \"\"\"insert into \"rate\" (rate_id, user_id, place_id, date, score) values('{0}', '{1}', '{2}', '{3}', '{4}')\"\"\"\\\n",
    "        .format(\"rate_\"+str(rate_id), \"user_\"+str(i), place_id, datetime.now(), ran_score)\n",
    "\n",
    "        conn.execute(\n",
    "            query\n",
    "        )\n",
    "        rate_id += 1\n",
    "    \n"
   ]
  },
  {
   "cell_type": "code",
   "execution_count": 11,
   "metadata": {},
   "outputs": [
    {
     "name": "stdout",
     "output_type": "stream",
     "text": [
      "--INIT MONGO DB CONNECTION--\n",
      "--CLIENT : MongoClient(host=['127.0.0.1:27017'], document_class=dict, tz_aware=False, connect=True)--\n",
      "--DB : Database(MongoClient(host=['127.0.0.1:27017'], document_class=dict, tz_aware=False, connect=True), 'admin')--\n",
      "--ITEM : Collection(Database(MongoClient(host=['127.0.0.1:27017'], document_class=dict, tz_aware=False, connect=True), 'admin'), 'item')--\n"
     ]
    }
   ],
   "source": [
    "db_conn = DBConnect()"
   ]
  },
  {
   "cell_type": "code",
   "execution_count": 8,
   "metadata": {},
   "outputs": [],
   "source": [
    "result = db_conn.get_item_key()"
   ]
  },
  {
   "cell_type": "code",
   "execution_count": 9,
   "metadata": {},
   "outputs": [
    {
     "data": {
      "text/plain": [
       "0"
      ]
     },
     "execution_count": 9,
     "metadata": {},
     "output_type": "execute_result"
    }
   ],
   "source": [
    "len(result)"
   ]
  },
  {
   "cell_type": "code",
   "execution_count": null,
   "metadata": {
    "collapsed": true
   },
   "outputs": [],
   "source": []
  }
 ],
 "metadata": {
  "kernelspec": {
   "display_name": "Python 3",
   "language": "python",
   "name": "python3"
  },
  "language_info": {
   "codemirror_mode": {
    "name": "ipython",
    "version": 3
   },
   "file_extension": ".py",
   "mimetype": "text/x-python",
   "name": "python",
   "nbconvert_exporter": "python",
   "pygments_lexer": "ipython3",
   "version": "3.6.6"
  }
 },
 "nbformat": 4,
 "nbformat_minor": 2
}
